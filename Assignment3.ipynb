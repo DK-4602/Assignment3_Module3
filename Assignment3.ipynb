{
  "nbformat": 4,
  "nbformat_minor": 0,
  "metadata": {
    "colab": {
      "provenance": [],
      "collapsed_sections": []
    },
    "kernelspec": {
      "name": "python3",
      "display_name": "Python 3"
    },
    "language_info": {
      "name": "python"
    }
  },
  "cells": [
    {
      "cell_type": "code",
      "execution_count": null,
      "metadata": {
        "colab": {
          "base_uri": "https://localhost:8080/"
        },
        "id": "Sud55gO4noqk",
        "outputId": "0f832c32-8664-4e39-814b-63d565139240"
      },
      "outputs": [
        {
          "output_type": "stream",
          "name": "stdout",
          "text": [
            "2\n"
          ]
        }
      ],
      "source": [
        "#to count the number of strings where the string length is 2 or more and the first and last character are same from a given list of strings.\n",
        "def same_words(words):\n",
        "  count = 0\n",
        "\n",
        "  for w in words:\n",
        "    if len(w) > 1 and w[0] == w[-1]:\n",
        "      count += 1\n",
        "  return count\n",
        "\n",
        "print(same_words(['abc', 'xyz', 'aba', '1221']))"
      ]
    },
    {
      "cell_type": "code",
      "source": [
        "#to remove duplicates from a list.\n",
        "def Remove(duplicate_list):\n",
        "    final_list = []\n",
        "    for num in duplicate_list:\n",
        "        if num not in final_list:\n",
        "            final_list.append(num)\n",
        "    return final_list\n",
        "\n",
        "duplicate_list = [2, 4, 10, 20, 5, 2, 20, 4]\n",
        "print(Remove(duplicate_list))"
      ],
      "metadata": {
        "id": "7kkhFsrnoClZ",
        "colab": {
          "base_uri": "https://localhost:8080/"
        },
        "outputId": "ea9a1d34-1bc9-48a5-f12f-4924d34afb1f"
      },
      "execution_count": null,
      "outputs": [
        {
          "output_type": "stream",
          "name": "stdout",
          "text": [
            "{100, 70, 40, 10, 80, 50, 20, 90, 60, 30}\n"
          ]
        }
      ]
    },
    {
      "cell_type": "code",
      "source": [
        "#to check a list is empty or not.\n",
        "\n",
        "my_list = []\n",
        "if not my_list:\n",
        "    print(\"the list is empty\")"
      ],
      "metadata": {
        "colab": {
          "base_uri": "https://localhost:8080/"
        },
        "id": "xPyMGu4fDnAZ",
        "outputId": "e99287fb-8240-49f3-86fb-0f8a1819f873"
      },
      "execution_count": null,
      "outputs": [
        {
          "output_type": "stream",
          "name": "stdout",
          "text": [
            "the list is empty\n"
          ]
        }
      ]
    },
    {
      "cell_type": "code",
      "source": [
        "#Write a Python function that takes two lists and returns true if they have at least one common member.\n",
        "\n",
        "list1=[1,3,5,7,9]\n",
        "list2=[2,7,8,4,9]\n",
        "result = 0\n",
        "def find_common(list1, list2):\n",
        "     for x in list1:\n",
        "         for y in list2:\n",
        "             if x == y:\n",
        "                 result = True\n",
        "                 return result\n",
        "             else:\n",
        "               result = False\n",
        "               return result\n",
        "print(find_common(list1, list2))"
      ],
      "metadata": {
        "id": "_0u9wyQHEeU4"
      },
      "execution_count": null,
      "outputs": []
    },
    {
      "cell_type": "code",
      "source": [
        "#Write a Python program to convert a list of characters into a string\n",
        "\n",
        "list1 = ['J', 'e', 'r', 'r', 'y']\n",
        "\n",
        "print(\"list1: \", list1)\n",
        "print(\"type(list1): \", type(list1))\n",
        "print()\n",
        "\n",
        "str1 = \"\"\n",
        "for i in list1:\n",
        " str1 += i;\n",
        "\n",
        "print(\"str1: \", str1)\n",
        "print(\"type(str1): \", type(str1))\n"
      ],
      "metadata": {
        "id": "iz4IwCyIEsbf"
      },
      "execution_count": null,
      "outputs": []
    },
    {
      "cell_type": "code",
      "source": [
        "#Write a Python program to convert a list of characters into a string\n",
        "\n",
        "list1 = ['J', 'e', 'r', 'r', 'y']\n",
        "\n",
        "print(\"list1: \", list1)\n",
        "print(\"type(list1): \", type(list1))\n",
        "print()\n",
        "\n",
        "str1 = \"\"\n",
        "str1 = str1.join(list1)\n",
        "\n",
        "print(\"str1: \", str1)\n",
        "print(\"type(str1): \", type(str1))"
      ],
      "metadata": {
        "id": "yljllHxLFKs2"
      },
      "execution_count": null,
      "outputs": []
    },
    {
      "cell_type": "code",
      "source": [
        "#Write a Python program to get unique values from a list\n",
        "\n",
        "def unique(list1):\n",
        "\n",
        "    unique_list = []\n",
        "\n",
        "    for x in list1:\n",
        "        if x not in unique_list:\n",
        "            unique_list.append(x)\n",
        "    for x in unique_list:\n",
        "        print x,\n",
        "  \n",
        "  \n",
        "list1 = [10, 20, 10, 30, 40, 40]\n",
        "print(\"the unique values from 1st list is\")\n",
        "unique(list1)\n",
        "  \n",
        "list2 = [1, 2, 1, 1, 3, 4, 3, 3, 5]\n",
        "print(\"\\nthe unique values from 2nd list is\")\n",
        "unique(list2)"
      ],
      "metadata": {
        "id": "nAA9EEZGFfdM"
      },
      "execution_count": null,
      "outputs": []
    },
    {
      "cell_type": "code",
      "source": [
        "#Write a Python program to create a tuple with numbers.\n",
        "\n",
        "Tuple1 = 22,\n",
        "print(\"Tuple Items = \", Tuple1)\n",
        "\n",
        "Tuple2 = (10, 20, 40, 60, 80, 100)\n",
        "print(\"Tuple Items = \", Tuple2)"
      ],
      "metadata": {
        "colab": {
          "base_uri": "https://localhost:8080/"
        },
        "id": "OqG5x0fCF3d1",
        "outputId": "253bcbca-c632-4292-db41-b86b91b9bc0c"
      },
      "execution_count": null,
      "outputs": [
        {
          "output_type": "stream",
          "name": "stdout",
          "text": [
            "Tuple Items =  (22,)\n",
            "Tuple Items =  (10, 20, 40, 60, 80, 100)\n"
          ]
        }
      ]
    },
    {
      "cell_type": "code",
      "source": [
        "#Write a Python program to find the length of a tuple.\n",
        "\n",
        "tuple1, tuple2 = (123, 'xyz', 'zara'), (456, 'abc')\n",
        "print(\"First tuple length : \", len(tuple1))\n",
        "print(\"Second tuple length : \", len(tuple2))"
      ],
      "metadata": {
        "colab": {
          "base_uri": "https://localhost:8080/"
        },
        "id": "j9CscymuGP9f",
        "outputId": "dc8cae57-ae31-46ee-b92f-ede3242a84b9"
      },
      "execution_count": null,
      "outputs": [
        {
          "output_type": "stream",
          "name": "stdout",
          "text": [
            "First tuple length :  3\n",
            "Second tuple length :  2\n"
          ]
        }
      ]
    },
    {
      "cell_type": "code",
      "source": [
        "#Write a Python program to reverse a tuple.\n",
        "\n",
        "def Reverse(tuples):\n",
        "    new_tuple = tuples[::-1]\n",
        "    return new_tuple\n",
        "tuples = ('z','a','d','f','g','e','e','k')\n",
        "print(Reverse(tuples))"
      ],
      "metadata": {
        "colab": {
          "base_uri": "https://localhost:8080/"
        },
        "id": "NMydO-dkGu84",
        "outputId": "d32e074f-be23-4f83-ae3c-58e4864f2ad8"
      },
      "execution_count": null,
      "outputs": [
        {
          "output_type": "stream",
          "name": "stdout",
          "text": [
            "('k', 'e', 'e', 'g', 'f', 'd', 'a', 'z')\n"
          ]
        }
      ]
    },
    {
      "cell_type": "code",
      "source": [
        "#Write a Python script to sort (ascending and descending) a dictionary by value.\n",
        "\n",
        "my_dict = {'red': '# FF0000', 'green': '# 008000',\n",
        "           'black': '# 000000', 'white': '# FFFFFF'}\n",
        "\n",
        "print(\"Sorted dictionary is :\")\n",
        "for w in sorted(my_dict, key = my_dict.get):\n",
        "    print(w, my_dict[w])"
      ],
      "metadata": {
        "id": "rFtlMMVsG_Kc"
      },
      "execution_count": null,
      "outputs": []
    },
    {
      "cell_type": "code",
      "source": [
        "#Write a Python program to combine two dictionary adding values forcommon keys.\n",
        "d1 = {'a': 100, 'b': 200, 'c':300}\n",
        "d2 = {'a': 300, 'b': 200, 'd':400}\n",
        "d3 = dict(d1) \n",
        "d3.update(d2) \n",
        "for i, j in d1.items():\n",
        "   for x, y in d2.items():\n",
        "     if i == x:\n",
        "      d3[i]=(j+y)\n",
        "print(d3)"
      ],
      "metadata": {
        "id": "iIcZCe1yHjUI",
        "colab": {
          "base_uri": "https://localhost:8080/"
        },
        "outputId": "7a3100d6-8eaf-44fb-fb6b-83bfeb52e733"
      },
      "execution_count": 5,
      "outputs": [
        {
          "output_type": "stream",
          "name": "stdout",
          "text": [
            "{'a': 400, 'b': 400, 'c': 300, 'd': 400}\n"
          ]
        }
      ]
    },
    {
      "cell_type": "code",
      "source": [
        "#Write a Python script to concatenate following dictionaries to create a new one.\n",
        "\n",
        "d1={'A':1,'B':2}\n",
        "d2={'C':3}\n",
        "d1.update(d2)\n",
        "print(\"Concatenated dictionary is:\")\n",
        "print(d1)"
      ],
      "metadata": {
        "colab": {
          "base_uri": "https://localhost:8080/"
        },
        "id": "eur33_hOgND4",
        "outputId": "0ce60e02-622c-467e-c5aa-5c17501c7715"
      },
      "execution_count": 6,
      "outputs": [
        {
          "output_type": "stream",
          "name": "stdout",
          "text": [
            "Concatenated dictionary is:\n",
            "{'A': 1, 'B': 2, 'C': 3}\n"
          ]
        }
      ]
    },
    {
      "cell_type": "code",
      "source": [
        "#Write a Python program to create and display all combinations of letters, selecting each letter from a different key in a dictionary.\n",
        "from itertools import product\n",
        "\n",
        "d ={'1':['a','b','e'], '2':['c','d','f']}\n",
        "\n",
        "for x, y in product(*d.values()):\n",
        "    print(x + y)"
      ],
      "metadata": {
        "colab": {
          "base_uri": "https://localhost:8080/"
        },
        "id": "u3ABYY_6ghtT",
        "outputId": "0229d4ce-1641-4fdf-d6d0-71f48e1c646c"
      },
      "execution_count": 10,
      "outputs": [
        {
          "output_type": "stream",
          "name": "stdout",
          "text": [
            "ac\n",
            "ad\n",
            "af\n",
            "bc\n",
            "bd\n",
            "bf\n",
            "ec\n",
            "ed\n",
            "ef\n"
          ]
        }
      ]
    },
    {
      "cell_type": "code",
      "source": [
        "#Write a Python program to combine values in python list of dictionaries.\n",
        "\n",
        "from collections import Counter\n",
        "item_list = [{'item': 'item1', 'amount': 800}, {'item': 'item2', 'amount': 700}, {'item': 'item1', 'amount': 537}]\n",
        "result = Counter()\n",
        "for d in item_list:\n",
        "    result[d['item']] += d['amount']\n",
        "print(result)"
      ],
      "metadata": {
        "colab": {
          "base_uri": "https://localhost:8080/"
        },
        "id": "fkj7vhnOgzd4",
        "outputId": "208911cb-19ab-4a7f-df4b-a71540f1ff08"
      },
      "execution_count": 9,
      "outputs": [
        {
          "output_type": "stream",
          "name": "stdout",
          "text": [
            "Counter({'item1': 1337, 'item2': 700})\n"
          ]
        }
      ]
    },
    {
      "cell_type": "code",
      "source": [
        "#Write a Python program to calculate the area of a trapezoid\n",
        "\n",
        "base1 = float(input('Please Enter the First Base of a Trapezoid: '))\n",
        "base2 = float(input('Please Enter the Second Base of a Trapezoid: '))\n",
        "height = float(input('Please Enter the Height of a Trapezoid: '))\n",
        "\n",
        "Area = 0.5 * (base1 + base2) * height\n",
        "Median = 0.5 * (base1+ base2)\n",
        "\n",
        "print(\"\\n Area of a Trapezium = %.2f \" %Area)\n",
        "print(\" Median of a Trapezium = %.2f \" %Median)\n"
      ],
      "metadata": {
        "colab": {
          "base_uri": "https://localhost:8080/"
        },
        "id": "0Ydm13iFhdJA",
        "outputId": "862cd219-c5d2-49f0-f5a1-341271f9ce66"
      },
      "execution_count": 13,
      "outputs": [
        {
          "output_type": "stream",
          "name": "stdout",
          "text": [
            "Please Enter the First Base of a Trapezoid: 8\n",
            "Please Enter the Second Base of a Trapezoid: 5\n",
            "Please Enter the Height of a Trapezoid: 2\n",
            "\n",
            " Area of a Trapezium = 13.00 \n",
            " Median of a Trapezium = 6.50 \n"
          ]
        }
      ]
    },
    {
      "cell_type": "code",
      "source": [
        "#Write a Python program to calculate the area of a parallelogram\n",
        "Base = float(input('Enter the Base of a parallelogram: '))\n",
        "Height = float(input('Enter the Height of a parallelogram: '))\n",
        "area=Base*Height \n",
        "print(\"The area of the parallelogram=\",area)  \n"
      ],
      "metadata": {
        "colab": {
          "base_uri": "https://localhost:8080/"
        },
        "id": "OfnUSiVGh6zs",
        "outputId": "4c34e9e3-75c8-42c4-c392-14fc10ae1ffc"
      },
      "execution_count": 12,
      "outputs": [
        {
          "output_type": "stream",
          "name": "stdout",
          "text": [
            "Enter the Base of a parallelogram: 8\n",
            "Enter the Height of a parallelogram: 6\n",
            "The area of the parallelogram= 48.0\n"
          ]
        }
      ]
    }
  ]
}